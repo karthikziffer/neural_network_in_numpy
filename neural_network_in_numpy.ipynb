{
 "cells": [
  {
   "cell_type": "markdown",
   "metadata": {},
   "source": [
    "# Neural Network using numpy"
   ]
  },
  {
   "cell_type": "markdown",
   "metadata": {},
   "source": [
    "![Neural Network](https://proxy.duckduckgo.com/iu/?u=https%3A%2F%2Fanalyticsindiamag.com%2Fwp-content%2Fuploads%2F2018%2F05%2Fnural-network_3.gif&f=1)\n",
    "\n",
    "[Credits](https://analyticsindiamag.com/a-guide-to-switching-careers-to-deep-learning/)"
   ]
  },
  {
   "cell_type": "code",
   "execution_count": 1,
   "metadata": {
    "colab": {},
    "colab_type": "code",
    "id": "HVb1l32FPclB"
   },
   "outputs": [],
   "source": [
    "import numpy as np"
   ]
  },
  {
   "cell_type": "code",
   "execution_count": 6,
   "metadata": {
    "colab": {},
    "colab_type": "code",
    "id": "bUSeCHvJSQQj"
   },
   "outputs": [],
   "source": [
    "np.random.seed(99)"
   ]
  },
  {
   "cell_type": "markdown",
   "metadata": {},
   "source": [
    "# Input X"
   ]
  },
  {
   "cell_type": "code",
   "execution_count": 5,
   "metadata": {
    "colab": {
     "base_uri": "https://localhost:8080/",
     "height": 90
    },
    "colab_type": "code",
    "id": "yctmys1CPt-i",
    "outputId": "6237e2ae-a87f-49e4-963a-2bb547ee19d1"
   },
   "outputs": [
    {
     "name": "stdout",
     "output_type": "stream",
     "text": [
      "[[1 0 1 0]\n",
      " [1 0 1 1]\n",
      " [0 1 0 1]]\n",
      "Shape of x -->  (3, 4)\n"
     ]
    }
   ],
   "source": [
    "x = np.array([[1 ,0 , 1 , 0] , [1 , 0 , 1 , 1] , [0 , 1 , 0 , 1]])\n",
    "print(x)\n",
    "print(\"Shape of x --> \" , x.shape)"
   ]
  },
  {
   "cell_type": "markdown",
   "metadata": {},
   "source": [
    "# Output y"
   ]
  },
  {
   "cell_type": "code",
   "execution_count": 7,
   "metadata": {
    "colab": {
     "base_uri": "https://localhost:8080/",
     "height": 54
    },
    "colab_type": "code",
    "id": "HzZq-sR0RykX",
    "outputId": "24900644-bb8b-4daa-fb1f-32f6a259c3d0"
   },
   "outputs": [
    {
     "name": "stdout",
     "output_type": "stream",
     "text": [
      "[[1]\n",
      " [1]\n",
      " [0]]\n",
      "Shape of y -->  (3, 1)\n"
     ]
    }
   ],
   "source": [
    "y = np.array([ [1] , [1] , [0]])\n",
    "print(y)\n",
    "print(\"Shape of y --> \" , y.shape)"
   ]
  },
  {
   "cell_type": "markdown",
   "metadata": {},
   "source": [
    "# First Layer Weights  "
   ]
  },
  {
   "cell_type": "code",
   "execution_count": 9,
   "metadata": {
    "colab": {
     "base_uri": "https://localhost:8080/",
     "height": 108
    },
    "colab_type": "code",
    "id": "55YhZjIZR5-o",
    "outputId": "60662cba-5e9f-4061-8c34-40c4f181134d"
   },
   "outputs": [
    {
     "name": "stdout",
     "output_type": "stream",
     "text": [
      "[[0.37743894 0.49414745 0.92894839]\n",
      " [0.39545404 0.9739563  0.52441472]\n",
      " [0.09361309 0.81330841 0.21168679]\n",
      " [0.55434578 0.29226912 0.81614236]]\n",
      "Shape of wh -->  (4, 3)\n"
     ]
    }
   ],
   "source": [
    "wh = np.random.rand(4,3)\n",
    "print(wh)\n",
    "print(\"Shape of wh --> \", wh.shape)"
   ]
  },
  {
   "cell_type": "markdown",
   "metadata": {},
   "source": [
    "# First Layer Bias"
   ]
  },
  {
   "cell_type": "code",
   "execution_count": 10,
   "metadata": {
    "colab": {
     "base_uri": "https://localhost:8080/",
     "height": 54
    },
    "colab_type": "code",
    "id": "N6xol2HRTFuS",
    "outputId": "5e1290ae-25a7-4eca-f727-2ab877e72933"
   },
   "outputs": [
    {
     "name": "stdout",
     "output_type": "stream",
     "text": [
      "[[0.82804257 0.22157737 0.6448347 ]]\n",
      "Shape of bh -->  (1, 3)\n"
     ]
    }
   ],
   "source": [
    "bh = np.random.rand(1,3)\n",
    "print(bh)\n",
    "print(\"Shape of bh --> \" ,bh.shape)"
   ]
  },
  {
   "cell_type": "markdown",
   "metadata": {},
   "source": [
    "# Hidden Layer Input\n",
    "---\n",
    "Dot product of input matrix x and weights results in hidden layer input matrix."
   ]
  },
  {
   "cell_type": "code",
   "execution_count": 11,
   "metadata": {
    "colab": {
     "base_uri": "https://localhost:8080/",
     "height": 90
    },
    "colab_type": "code",
    "id": "HWqtgdWkTwCP",
    "outputId": "be77459f-a273-488b-b0d3-d6c863c10203"
   },
   "outputs": [
    {
     "name": "stdout",
     "output_type": "stream",
     "text": [
      "[[1.2990946  1.52903324 1.78546988]\n",
      " [1.85344038 1.82130235 2.60161224]\n",
      " [1.7778424  1.48780278 1.98539178]]\n",
      "Hidden Layer input shape -->  (3, 3)\n"
     ]
    }
   ],
   "source": [
    "hidden_layer_output = np.dot(x , wh) + bh\n",
    "print(hidden_layer_output)\n",
    "print(\"Hidden Layer input shape --> \" , hidden_layer_output.shape)"
   ]
  },
  {
   "cell_type": "markdown",
   "metadata": {},
   "source": [
    "# Sigmoid Activation Function\n",
    "---\n",
    "\n",
    "![Sigmoid Activation FUnction](https://proxy.duckduckgo.com/iu/?u=https%3A%2F%2Fcdn-images-1.medium.com%2Fmax%2F1600%2F1*Xu7B5y9gp0iL5ooBj7LtWw.png&f=1) \n",
    "[Image credits SAGAR SHARMA](https://bit.ly/2ntXyn8)"
   ]
  },
  {
   "cell_type": "code",
   "execution_count": 18,
   "metadata": {
    "colab": {},
    "colab_type": "code",
    "id": "mcNo9kPJULhL"
   },
   "outputs": [],
   "source": [
    "from math import exp \n",
    "def sigmoid(x_value):\n",
    "  \n",
    "  return (1/(1+exp(-x_value)))"
   ]
  },
  {
   "cell_type": "markdown",
   "metadata": {},
   "source": [
    "# Hidden Layer activations"
   ]
  },
  {
   "cell_type": "code",
   "execution_count": 19,
   "metadata": {
    "colab": {},
    "colab_type": "code",
    "id": "5XI5LNHPVDY8"
   },
   "outputs": [],
   "source": [
    "sig_vect = np.vectorize(sigmoid)\n",
    "hidden_layer_activations = sig_vect(hidden_layer_output)"
   ]
  },
  {
   "cell_type": "markdown",
   "metadata": {
    "colab_type": "text",
    "id": "_5vovSC9k9qY"
   },
   "source": [
    "# Hidden Layer Weights"
   ]
  },
  {
   "cell_type": "code",
   "execution_count": 20,
   "metadata": {
    "colab": {
     "base_uri": "https://localhost:8080/",
     "height": 72
    },
    "colab_type": "code",
    "id": "yp0JeygHk_3a",
    "outputId": "2ad8da4b-50c2-40c2-b4aa-f387f7d6b4cc"
   },
   "outputs": [
    {
     "name": "stdout",
     "output_type": "stream",
     "text": [
      "[[0.23504378]\n",
      " [0.006553  ]\n",
      " [0.89864419]]\n",
      "Shape of wout --> (3, 1)\n"
     ]
    }
   ],
   "source": [
    "wout = np.random.rand(3 , 1)\n",
    "print(wout)\n",
    "print(\"Shape of wout -->\" , wout.shape)"
   ]
  },
  {
   "cell_type": "markdown",
   "metadata": {},
   "source": [
    "# Hidden Layer Bias"
   ]
  },
  {
   "cell_type": "code",
   "execution_count": 21,
   "metadata": {
    "colab": {
     "base_uri": "https://localhost:8080/",
     "height": 35
    },
    "colab_type": "code",
    "id": "I2a86OfylzT0",
    "outputId": "65af8a03-544f-4dbf-eafb-3b7708e16fc3"
   },
   "outputs": [
    {
     "name": "stdout",
     "output_type": "stream",
     "text": [
      "[0.55223443]\n",
      "Shape of bout --> (1,)\n"
     ]
    }
   ],
   "source": [
    "bout = np.random.rand(1)\n",
    "print(bout)\n",
    "print(\"Shape of bout -->\" , bout.shape)"
   ]
  },
  {
   "cell_type": "markdown",
   "metadata": {},
   "source": [
    "# Input to Output Layer\n",
    "---\n",
    "Hidden layer output is the input to Output layer.Dot product of hidden layer activations and wout will result in Hidden layer output and summed with bias unit."
   ]
  },
  {
   "cell_type": "code",
   "execution_count": 23,
   "metadata": {
    "colab": {
     "base_uri": "https://localhost:8080/",
     "height": 72
    },
    "colab_type": "code",
    "id": "CyIlDVBmlXjU",
    "outputId": "65bb5e3b-c31a-43fd-e158-f34c6edba9ec"
   },
   "outputs": [
    {
     "name": "stdout",
     "output_type": "stream",
     "text": [
      "[[1.51186271]\n",
      " [1.5976838 ]\n",
      " [1.54878076]]\n",
      "Shape of output_layer_input --> (3, 1)\n"
     ]
    }
   ],
   "source": [
    "output_layer_input = np.dot(hidden_layer_activations , wout) + bout\n",
    "print(output_layer_input)\n",
    "print(\"Shape of output_layer_input -->\" , output_layer_input.shape)"
   ]
  },
  {
   "cell_type": "markdown",
   "metadata": {},
   "source": [
    "# Output Layer output\n"
   ]
  },
  {
   "cell_type": "code",
   "execution_count": 24,
   "metadata": {
    "colab": {
     "base_uri": "https://localhost:8080/",
     "height": 72
    },
    "colab_type": "code",
    "id": "oIEe-6KpkUT5",
    "outputId": "111011f5-8bd2-4b7e-d6df-a5c08305840a"
   },
   "outputs": [
    {
     "name": "stdout",
     "output_type": "stream",
     "text": [
      "[[0.8193371 ]\n",
      " [0.83169441]\n",
      " [0.82473757]]\n",
      "Shape of output -->  (3, 1)\n"
     ]
    }
   ],
   "source": [
    "output = sig_vect(output_layer_input)\n",
    "print(output)\n",
    "print(\"Shape of output --> \" ,output.shape)"
   ]
  },
  {
   "cell_type": "markdown",
   "metadata": {},
   "source": [
    "# Output loss Calculation"
   ]
  },
  {
   "cell_type": "code",
   "execution_count": 26,
   "metadata": {
    "colab": {
     "base_uri": "https://localhost:8080/",
     "height": 90
    },
    "colab_type": "code",
    "id": "l6Bh7pt5mGFs",
    "outputId": "bea32098-65e5-4e64-e206-4b9fcc60c2af"
   },
   "outputs": [
    {
     "name": "stdout",
     "output_type": "stream",
     "text": [
      "[[ 0.1806629 ]\n",
      " [ 0.16830559]\n",
      " [-0.82473757]]\n",
      "Shape of E --> (3, 1)\n"
     ]
    }
   ],
   "source": [
    "E = y - output\n",
    "print(E)\n",
    "print(\"Shape of E -->\" , E.shape)"
   ]
  },
  {
   "cell_type": "markdown",
   "metadata": {},
   "source": [
    "---\n",
    "---\n",
    "# Backpropagation\n",
    "---\n",
    "---\n"
   ]
  },
  {
   "cell_type": "markdown",
   "metadata": {},
   "source": [
    "# Derivative of Sigmoid Function"
   ]
  },
  {
   "cell_type": "code",
   "execution_count": 28,
   "metadata": {
    "colab": {},
    "colab_type": "code",
    "id": "7h_9HRhamQpr"
   },
   "outputs": [],
   "source": [
    "def derivative_sigmoid(sig_value):\n",
    "    \n",
    "    return (sig_value*(1 - sig_value))\n",
    "    "
   ]
  },
  {
   "cell_type": "code",
   "execution_count": 29,
   "metadata": {
    "colab": {},
    "colab_type": "code",
    "id": "oAqeclilnFj6"
   },
   "outputs": [],
   "source": [
    "sigmoid_derivative = np.vectorize(derivative_sigmoid)"
   ]
  },
  {
   "cell_type": "markdown",
   "metadata": {},
   "source": [
    "# Slope of Output Layer"
   ]
  },
  {
   "cell_type": "code",
   "execution_count": 31,
   "metadata": {},
   "outputs": [
    {
     "name": "stdout",
     "output_type": "stream",
     "text": [
      "[[0.14802382]\n",
      " [0.13997882]\n",
      " [0.14454551]]\n",
      "Shape of Slope_output_layer -->  (3, 1)\n"
     ]
    }
   ],
   "source": [
    "Slope_output_layer = sigmoid_derivative(output)\n",
    "print(Slope_output_layer)\n",
    "print(\"Shape of Slope_output_layer --> \" , Slope_output_layer.shape)"
   ]
  },
  {
   "cell_type": "markdown",
   "metadata": {},
   "source": [
    "# Slope of Hidden Layer"
   ]
  },
  {
   "cell_type": "code",
   "execution_count": 33,
   "metadata": {},
   "outputs": [
    {
     "name": "stdout",
     "output_type": "stream",
     "text": [
      "[[0.16838547 0.14640304 0.12299973]\n",
      " [0.11711749 0.1198794  0.06426894]\n",
      " [0.12366934 0.15030304 0.10616583]]\n",
      "Shape of Slope_hidden_layer --> (3, 3)\n"
     ]
    }
   ],
   "source": [
    "Slope_hidden_layer = sigmoid_derivative(hidden_layer_activations)\n",
    "print(Slope_hidden_layer)\n",
    "print(\"Shape of Slope_hidden_layer -->\" , Slope_hidden_layer.shape)"
   ]
  },
  {
   "cell_type": "code",
   "execution_count": 34,
   "metadata": {},
   "outputs": [
    {
     "name": "stdout",
     "output_type": "stream",
     "text": [
      "[[ 0.00026742]\n",
      " [ 0.00023559]\n",
      " [-0.00119212]]\n"
     ]
    }
   ],
   "source": [
    "lr = 0.01\n",
    "d_output = E * Slope_output_layer * lr\n",
    "print(d_output)\n"
   ]
  },
  {
   "cell_type": "code",
   "execution_count": 35,
   "metadata": {},
   "outputs": [
    {
     "name": "stdout",
     "output_type": "stream",
     "text": [
      "Shape of d_output-->  (3, 1)\n",
      "Shape of wout transpose -->  (1, 3)\n"
     ]
    },
    {
     "data": {
      "text/plain": [
       "array([[ 6.28563790e-05,  1.75243105e-06,  2.40319141e-04],\n",
       "       [ 5.53744732e-05,  1.54383608e-06,  2.11713529e-04],\n",
       "       [-2.80200662e-04, -7.81197307e-06, -1.07129274e-03]])"
      ]
     },
     "execution_count": 35,
     "metadata": {},
     "output_type": "execute_result"
    }
   ],
   "source": [
    "print(\"Shape of d_output--> \", d_output.shape)\n",
    "print(\"Shape of wout transpose --> \" ,(np.transpose(wout)).shape )\n",
    "Error_at_hidden_layer = np.dot(d_output , np.transpose(wout))\n",
    "Error_at_hidden_layer"
   ]
  },
  {
   "cell_type": "code",
   "execution_count": 38,
   "metadata": {},
   "outputs": [
    {
     "data": {
      "text/plain": [
       "array([[ 1.48029510e-05,  4.31878703e-05,  6.80003971e-06],\n",
       "       [ 1.19963075e-05,  2.20732520e-05,  2.79686274e-06],\n",
       "       [-1.06220945e-04, -1.08508235e-04, -5.10882704e-05]])"
      ]
     },
     "execution_count": 38,
     "metadata": {},
     "output_type": "execute_result"
    }
   ],
   "source": [
    "d_hidden_layer = Error_at_hidden_layer * Slope_hidden_layer\n",
    "d_hidden_layer"
   ]
  },
  {
   "cell_type": "markdown",
   "metadata": {},
   "source": [
    "# Update weights "
   ]
  },
  {
   "cell_type": "code",
   "execution_count": 40,
   "metadata": {},
   "outputs": [
    {
     "data": {
      "text/plain": [
       "array([[0.39545058],\n",
       "       [0.97394962],\n",
       "       [0.52440853]])"
      ]
     },
     "execution_count": 40,
     "metadata": {},
     "output_type": "execute_result"
    }
   ],
   "source": [
    "wout = wout + np.dot( np.transpose(hidden_layer_activations) , d_output) * lr\n",
    "wout"
   ]
  },
  {
   "cell_type": "code",
   "execution_count": 41,
   "metadata": {},
   "outputs": [
    {
     "data": {
      "text/plain": [
       "array([[0.67227883, 0.48807905, 0.82549527],\n",
       "       [0.03144533, 0.80804888, 0.56561691],\n",
       "       [0.29762277, 0.04669637, 0.9906275 ],\n",
       "       [0.00682479, 0.76979216, 0.74676662]])"
      ]
     },
     "execution_count": 41,
     "metadata": {},
     "output_type": "execute_result"
    }
   ],
   "source": [
    "wh = wh + np.dot(np.transpose(x) , d_hidden_layer ) * lr\n",
    "wh"
   ]
  },
  {
   "cell_type": "markdown",
   "metadata": {},
   "source": [
    "# Update bias"
   ]
  },
  {
   "cell_type": "code",
   "execution_count": 53,
   "metadata": {},
   "outputs": [
    {
     "data": {
      "text/plain": [
       "array([[0.37743814, 0.49414702, 0.92894798]])"
      ]
     },
     "execution_count": 53,
     "metadata": {},
     "output_type": "execute_result"
    }
   ],
   "source": [
    "bh = bh + np.sum(d_hidden_layer , axis = 0) * lr\n",
    "bh"
   ]
  },
  {
   "cell_type": "code",
   "execution_count": 54,
   "metadata": {},
   "outputs": [
    {
     "data": {
      "text/plain": [
       "array([0.09360602])"
      ]
     },
     "execution_count": 54,
     "metadata": {},
     "output_type": "execute_result"
    }
   ],
   "source": [
    "bout = bout + np.sum(d_output , axis = 0) * lr\n",
    "bout"
   ]
  },
  {
   "cell_type": "code",
   "execution_count": null,
   "metadata": {},
   "outputs": [],
   "source": []
  }
 ],
 "metadata": {
  "colab": {
   "name": "EIP2_assignment2.ipynb",
   "provenance": [],
   "version": "0.3.2"
  },
  "kernelspec": {
   "display_name": "Python 3",
   "language": "python",
   "name": "python3"
  },
  "language_info": {
   "codemirror_mode": {
    "name": "ipython",
    "version": 3
   },
   "file_extension": ".py",
   "mimetype": "text/x-python",
   "name": "python",
   "nbconvert_exporter": "python",
   "pygments_lexer": "ipython3",
   "version": "3.6.4"
  }
 },
 "nbformat": 4,
 "nbformat_minor": 2
}
